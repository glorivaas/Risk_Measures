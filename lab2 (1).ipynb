{
 "cells": [
  {
   "cell_type": "markdown",
   "metadata": {},
   "source": [
    "# Lab 2: Basic VaR calculation techniques"
   ]
  },
  {
   "cell_type": "markdown",
   "metadata": {},
   "source": [
    "## Index VaR calculation\n",
    "The goal of the upcoming exercises will be to estimate value-at-risk for a single index (which can be seen as a portfolio value).\n",
    "\n",
    "\n",
    "Let $Z_{t_0}, Z_{t_1},\\ldots, Z_{t_N}$ be the index values at times $t_0,t_1,\\ldots,t_N$.\n",
    "\n",
    "Denote $X_i = Z_i - Z_{i-1}$ and $L_i = -X_i$."
   ]
  },
  {
   "cell_type": "markdown",
   "metadata": {},
   "source": [
    "### Exercise 0.\n",
    "Fetch the data from Yahoo Finance via the script below and visualize it. Write some preliminary observations."
   ]
  },
  {
   "cell_type": "code",
   "execution_count": 5,
   "metadata": {},
   "outputs": [
    {
     "name": "stdout",
     "output_type": "stream",
     "text": [
      "YF.download() has changed argument auto_adjust default to True\n"
     ]
    },
    {
     "name": "stderr",
     "output_type": "stream",
     "text": [
      "[*********************100%***********************]  1 of 1 completed\n"
     ]
    }
   ],
   "source": [
    "import yfinance as yf\n",
    "\n",
    "ticker = \"^GSPC\" # SPX500\n",
    "sp500_data = yf.download(ticker, start=\"2000-01-01\", end=\"2025-03-01\")\n",
    "\n",
    "# YOUR PRELIMINARY DATA ANALYSIS GOES BELOW\n"
   ]
  },
  {
   "cell_type": "markdown",
   "metadata": {},
   "source": [
    "### Exercise 1.\n",
    "\n",
    "#### Variance-Covariance approach to (index) VaR\n",
    "\n",
    "Assumption: return at day $t_i$, $X_i$, has normal distribution $\\mathcal{N}(\\mu_t, \\sigma_t^2)$.\n",
    "Value of VaR at day $t$ is calculated by historical estimation of mean $\\mu_t$ and $\\sigma_t^2$ for a given time window $n$.\n",
    "\n",
    "Two most common approaches are to parameter estimation are:\n",
    "- unbiased estimators of $\\mu_t$ and $\\sigma^2_t$;\n",
    "- exponentially weighted moving average estimation (EWMA)\n",
    "\n",
    "The idea behind EWMA is to put more weights into more recent observations. Concretely, for a given parameter $\\lambda\\in(0,1]$\n",
    "- $\\hat{\\mu}_t = c\\sum_{i=1}^n X_{t-i} \\lambda^{i-1}$\n",
    "- $\\hat{\\sigma}_{t}^2 = c\\sum_{i=1}^n (X_{t-i} - \\hat{\\mu}_t)^2\\lambda^{i-1}$,\n",
    "\n",
    "where $c$ is a normalizing constant. Note that $\\lambda=1$ should return unbiased estimators.\n",
    "\n",
    "### Historical (index) VaR\n",
    "\n",
    "Assumption: VaR at day $t$ is computed as a $p$-th quantile of the last $n$ observations\n"
   ]
  },
  {
   "cell_type": "code",
   "execution_count": 6,
   "metadata": {},
   "outputs": [],
   "source": [
    "import numpy.typing as npt\n",
    "import numpy as np\n",
    "\n",
    "np.random.seed(1)\n",
    "\n",
    "def variance_covariance_index_var(\n",
    "    returns: npt.NDArray[np.double],\n",
    "    confidence_level: float,\n",
    "    obs_window_size: int = 250,\n",
    "    lam: float = 0.94\n",
    ") -> npt.NDArray[np.double]:\n",
    "    ...\n",
    "\n",
    "\n",
    "def historical_index_var(\n",
    "    returns: npt.NDArray[np.double],\n",
    "    confidence_level: float,\n",
    "    obs_window_size: int = 250,\n",
    ") -> npt.NDArray[np.double]:\n",
    "    ..."
   ]
  },
  {
   "cell_type": "markdown",
   "metadata": {},
   "source": [
    "### Exercise 2.\n",
    "\n",
    "#### Backtesting\n",
    "\n",
    "The goal of VaR backtesting is to evaluate the performance of VaR models. A VaR estimate with a 95% confidence level should only be violated about 5% of the time, and VaR failures should not cluster. Clustering of VaR failures indicates a lack of independence across time, indicating that the VaR models are slow to react to changing market conditions.\n",
    "\n",
    "\n",
    "Backtest the methods implemented in Exercise 1. Use default value of the obs_window_size and try with lambda = 0.94 and = 1.0 for the parametric method.\n",
    "\n",
    "Visualize and comment on the results."
   ]
  },
  {
   "cell_type": "code",
   "execution_count": 7,
   "metadata": {},
   "outputs": [],
   "source": [
    "### YOUR CODE GOES HERE"
   ]
  },
  {
   "cell_type": "markdown",
   "metadata": {},
   "source": [
    "## Portfolio VaR calculation\n",
    "\n",
    "Let $Z_{t_i}\\in\\mathbb{R}^d$ be a vector of **risk factors** and as before, put $X_i = Z_i - Z_{i-1} \\in \\mathbb{R}^d$.\n",
    "\n",
    "Let $V_t = f(t, Z_{t})\\in\\mathbb{R}$ be the value of the portfolio at time $t$, and $L_t = f(t-1, Z_{t-1}) - f(t, Z_t)$.\n",
    "\n",
    "Using linear approximation, one can write\n",
    "$$L_t \\approx L^\\Delta_t := a_t + b_t^TX_t$$\n",
    "for some $a_t\\in\\mathbb{R}$, $b_t\\in\\mathbb{R}^d$ (appropriate derivatives of $L$).\n",
    "\n",
    "Variance-Covariance method of portfolio VaR calculation: \n",
    "- assume $X_t\\sim \\mathcal{N}(\\mu_t, \\Sigma_t)$\n",
    "- estimate $\\mu_t, \\Sigma_t$ (using regular unbiased estimators)\n",
    "- use linear approximation above (assume fixed, constant $a_t\\equiv a$, $b_t\\equiv b$)\n"
   ]
  },
  {
   "cell_type": "markdown",
   "metadata": {},
   "source": [
    "### Exercise 3.\n",
    "- fetch a >=5-year history of data of >=20 stocks (pick your favorites) from yfinance\n",
    "- construct a fixed portfolio of those stocks (sample weights wector $w$ randomly)\n",
    "- calculate $a_t$ and $b_t$ from the linearization equation, given $f(t,Z_t) = w^T Z_t$\n",
    "- calculate VaR using variance-covariance method above for the last 2 years of observations\n",
    "- backtest your calculations\n",
    "- visualize results and write your observations"
   ]
  },
  {
   "cell_type": "code",
   "execution_count": 8,
   "metadata": {},
   "outputs": [],
   "source": [
    "# YOUR CODE GOES HERE"
   ]
  },
  {
   "cell_type": "markdown",
   "metadata": {},
   "source": [
    "## References:\n",
    "- https://www.mathworks.com/help/risk/value-at-risk-estimation-and-backtesting.html\n",
    "- McNeil, Frey, Embrechts \"Quantitative Risk Management\", Sec. 2.1, 2.3"
   ]
  }
 ],
 "metadata": {
  "kernelspec": {
   "display_name": "risk-measures",
   "language": "python",
   "name": "python3"
  },
  "language_info": {
   "codemirror_mode": {
    "name": "ipython",
    "version": 3
   },
   "file_extension": ".py",
   "mimetype": "text/x-python",
   "name": "python",
   "nbconvert_exporter": "python",
   "pygments_lexer": "ipython3",
   "version": "3.13.2"
  }
 },
 "nbformat": 4,
 "nbformat_minor": 2
}
