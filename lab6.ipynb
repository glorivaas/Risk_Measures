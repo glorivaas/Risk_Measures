{
  "cells": [
    {
      "cell_type": "markdown",
      "metadata": {
        "id": "view-in-github",
        "colab_type": "text"
      },
      "source": [
        "<a href=\"https://colab.research.google.com/github/glorivaas/Risk_Measures/blob/main/lab6.ipynb\" target=\"_parent\"><img src=\"https://colab.research.google.com/assets/colab-badge.svg\" alt=\"Open In Colab\"/></a>"
      ]
    },
    {
      "cell_type": "markdown",
      "metadata": {
        "id": "j2f-V-0ruch4"
      },
      "source": [
        "## Numerical integration of SDEs"
      ]
    },
    {
      "cell_type": "markdown",
      "metadata": {
        "id": "jbma1nU0uch6"
      },
      "source": [
        "### Exercise 1\n",
        "Implement numerical integration of the cev model."
      ]
    },
    {
      "cell_type": "code",
      "execution_count": 3,
      "metadata": {
        "id": "ZiMRzHwvuch7"
      },
      "outputs": [],
      "source": [
        "\n",
        "import numpy as np\n",
        "import numpy.typing as npt\n",
        "\n",
        "\n",
        "def cev_model_mc(\n",
        "    s0: float,\n",
        "    t: float,\n",
        "    vol: float,\n",
        "    gamma: float,\n",
        "    mu: float,\n",
        "    n_paths: int,\n",
        "    n_steps: int,\n",
        "    use_millstein_scheme: bool = False\n",
        ") -> npt.NDArray[np.float64]:\n",
        "    \"\"\"Returns array of shape (n_paths, n_steps) containing paths of the Cev model.\"\"\"\n",
        "    dt = t / n_steps\n",
        "    paths = np.zeros((n_paths, n_steps + 1))\n",
        "    paths[:, 0] = s0\n",
        "\n",
        "    for i in range(n_steps):\n",
        "        s = paths[:, i]\n",
        "        dW = np.random.normal(0, np.sqrt(dt), size=n_paths)\n",
        "        diffusion = vol * np.power(np.maximum(s, 0), gamma)\n",
        "\n",
        "        if use_millstein_scheme:\n",
        "            derivative = vol * gamma * np.power(np.maximum(s, 0), gamma - 1)\n",
        "            paths[:, i + 1] = s + mu * s * dt + diffusion * dW + 0.5 * diffusion * derivative * (dW**2 - dt)\n",
        "        else:\n",
        "            paths[:, i + 1] = s + mu * s * dt + diffusion * dW\n",
        "\n",
        "    return paths"
      ]
    },
    {
      "cell_type": "markdown",
      "metadata": {
        "id": "R-3mey1luch8"
      },
      "source": [
        "### Exercise 2\n",
        "\n",
        "For the MC scheme results, calculate mean and the confidence interval at specified level, using the unbiased variance estimator and assuming that we can use CLT approximation."
      ]
    },
    {
      "cell_type": "code",
      "execution_count": 4,
      "metadata": {
        "id": "DFZ_wUwTuch9"
      },
      "outputs": [],
      "source": [
        "def mc_mean_confidence_interval(mc_results: list[float], confidence_level=0.95) -> tuple[float, tuple[float, float]]:\n",
        "    \"\"\"Returns mean and confidence interval at specified level.\"\"\"\n",
        "    data = np.array(mc_results)\n",
        "    n = len(data)\n",
        "    mean = np.mean(data)\n",
        "    std_err = np.std(data, ddof=1) / np.sqrt(n)\n",
        "    z = stats.norm.ppf(0.5 + confidence_level / 2)\n",
        "\n",
        "    margin = z * std_err\n",
        "    conf_interval = (mean - margin, mean + margin)\n",
        "\n",
        "    return mean, conf_interval"
      ]
    },
    {
      "cell_type": "markdown",
      "metadata": {
        "id": "HiLr1eAWuch9"
      },
      "source": [
        "### Exercise 3\n",
        "\n",
        "Use hte results of exercise 1 and 2 to calculate the price and delta of the European call option in the CEV model.\n",
        "\n",
        "Calculate the price of the following contract.\n",
        "- s0 = 100.0\n",
        "- t = 3.0\n",
        "- vol = 0.3\n",
        "- gamma = 1.5\n",
        "- mu = 0.2\n",
        "- strike in [70, 80, 90, 100]\n",
        "- moneyness (K/s0) in [0.7, 0.8, 0.9, 1.0, 1.1, 1.2, 1.3]\n",
        "\n",
        "Tweak the simulation parameters s.t. the price conf. interval at level 99% has width of at most 1 basis point for every strike.\n",
        "\n",
        "Find the implied volatilities of these options and calculate the delta in the BS model using the results of Lab5."
      ]
    },
    {
      "cell_type": "code",
      "execution_count": 6,
      "metadata": {
        "id": "Za-5hEiauch9"
      },
      "outputs": [],
      "source": [
        "def european_call_cev_price(\n",
        "    s0: float,\n",
        "    t: float,\n",
        "    vol: float,\n",
        "    gamma: float,\n",
        "    r: float,\n",
        "    strike: float,\n",
        "    n_paths: int,\n",
        "    n_steps: int,\n",
        "    confidence_level: float = 0.99,\n",
        "    use_millstein_scheme: bool = False\n",
        ") -> tuple[float, tuple[float, float]]:\n",
        "    \"\"\"Returns price and confidence interval at specified level.\"\"\"\n",
        "    paths = cev_model_mc(\n",
        "        s0=s0,\n",
        "        t=t,\n",
        "        vol=vol,\n",
        "        gamma=gamma,\n",
        "        mu=r,\n",
        "        n_paths=n_paths,\n",
        "        n_steps=n_steps,\n",
        "        use_millstein_scheme=use_millstein_scheme\n",
        "    )\n",
        "\n",
        "    payoffs = np.maximum(paths[:, -1] - strike, 0)\n",
        "    discounted_payoffs = np.exp(-r * t) * payoffs\n",
        "    return mc_mean_confidence_interval(discounted_payoffs.tolist(), confidence_level)\n",
        "\n",
        "def bs_call_price(s0, k, t, r, sigma):\n",
        "    \"\"\"Black-Scholes price of a European call option.\"\"\"\n",
        "    if t <= 0 or sigma <= 0:\n",
        "        return max(s0 - k, 0.0)\n",
        "    d1 = (np.log(s0 / k) + (r + 0.5 * sigma**2) * t) / (sigma * np.sqrt(t))\n",
        "    d2 = d1 - sigma * np.sqrt(t)\n",
        "    return s0 * norm.cdf(d1) - k * np.exp(-r * t) * norm.cdf(d2)\n",
        "\n",
        "def implied_volatility(\n",
        "    price: float,\n",
        "    s0: float,\n",
        "    t: float,\n",
        "    r: float,\n",
        "    strike: float,\n",
        ") -> float:\n",
        "    \"\"\"Returns Black Scholes implied volatility for given price, strike, and time to maturity.\"\"\"\n",
        "    def objective(sigma):\n",
        "        return bs_call_price(s0, strike, t, r, sigma) - price\n",
        "\n",
        "    return brentq(objective, 1e-6, 3.0)  # Search in a reasonable volatility range\n",
        "\n"
      ]
    }
  ],
  "metadata": {
    "language_info": {
      "name": "python"
    },
    "colab": {
      "provenance": [],
      "include_colab_link": true
    },
    "kernelspec": {
      "name": "python3",
      "display_name": "Python 3"
    }
  },
  "nbformat": 4,
  "nbformat_minor": 0
}