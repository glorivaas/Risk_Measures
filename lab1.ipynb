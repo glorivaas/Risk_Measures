{
  "cells": [
    {
      "cell_type": "markdown",
      "metadata": {
        "id": "view-in-github",
        "colab_type": "text"
      },
      "source": [
        "<a href=\"https://colab.research.google.com/github/glorivaas/Risk_Measures/blob/main/lab1.ipynb\" target=\"_parent\"><img src=\"https://colab.research.google.com/assets/colab-badge.svg\" alt=\"Open In Colab\"/></a>"
      ]
    },
    {
      "cell_type": "markdown",
      "metadata": {
        "id": "amCJx9YJWyFv"
      },
      "source": [
        "# Lab 1"
      ]
    },
    {
      "cell_type": "markdown",
      "metadata": {
        "id": "kbuOl5neWyFx"
      },
      "source": [
        "### Example risk measures (L/P)\n",
        "- VaR (value at risk) at the confidence level $c\\in(0,1)$\n",
        "$$ \\operatorname{VaR}_c(L) = \\inf\\{\\, v\\in\\mathbb{R} \\colon \\mathbb{P}(L > v) \\le 1-c \\,\\} $$\n",
        "- ES (expected shortfall) at the confidence level $c\\in(0,1)$\n",
        "$$ \\operatorname{ES}_c(L) = \\mathbb{E}[L \\,\\vert\\, L \\ge \\operatorname{VaR}_c(L)] $$\n",
        "- CVaR (conditional VaR) at the confidence level $c\\in(0,1)$\n",
        "$$ \\operatorname{CVaR}_c(L) = \\frac{1}{1-c} \\int_c^1 \\operatorname{VaR}_\\xi(L) \\,d\\xi $$"
      ]
    },
    {
      "cell_type": "markdown",
      "metadata": {
        "id": "pRNtFvaEWyFz"
      },
      "source": [
        "### Exercise 0\n",
        "Setup your python environment, install numpy, scipy, matplotlib (or other visualization libraries depending on your preferences)."
      ]
    },
    {
      "cell_type": "markdown",
      "metadata": {
        "id": "VyGAGA2QWyFz"
      },
      "source": [
        "### Exercise 1\n",
        "Complete the implementation of the following functions."
      ]
    },
    {
      "cell_type": "code",
      "execution_count": null,
      "metadata": {
        "collapsed": true,
        "id": "40ybOYORWyF0"
      },
      "outputs": [],
      "source": [
        "Complete the implementation of the following functions."
      ]
    },
    {
      "cell_type": "markdown",
      "metadata": {
        "id": "nZ4OHtC3WyF1"
      },
      "source": [
        "### Exercise 2\n",
        "Check the implementations from task 1 vs. analytical formulas for the uniform distribution on $[0,1]$, $\\operatorname{Unif}([0,1])$.\n"
      ]
    },
    {
      "cell_type": "code",
      "execution_count": null,
      "metadata": {
        "id": "EMrebB1tWyF2"
      },
      "outputs": [],
      "source": [
        "\n",
        "\n",
        "def test_vs_uniform() -> None:\n",
        "    c = 0.95\n",
        "    def cdf_unif(x: NumArr) -> NumArr:\n",
        "        return np.minimum(np.maximum(x, 0.0), 1.0)\n",
        "\n",
        "    assert np.isclose(var(cdf_unif, c), ...)\n",
        "    assert np.isclose(es(cdf_unif, c), ...)\n",
        "    assert np.isclose(cvar(cdf_unif, c), ...)\n",
        "\n",
        "test_vs_uniform()\n"
      ]
    },
    {
      "cell_type": "markdown",
      "metadata": {
        "id": "aSw-WvE5WyF2"
      },
      "source": [
        "### Exercise 3\n",
        "- For the standard normal distribution $\\mathcal{N}(0,1)$, plot the above risk measures against the confidence level $c\\in(0,1)$.\n",
        "- For the normal distribution $\\mathcal{N}(0,\\sigma)$, plot the above risk measures against $\\sigma>0$ for the confidence level $c=95\\%$.\n",
        "\n",
        "Describe the results."
      ]
    }
  ],
  "metadata": {
    "kernelspec": {
      "display_name": "finval_dashboard",
      "language": "python",
      "name": "python3"
    },
    "language_info": {
      "name": "python",
      "version": "3.11.6"
    },
    "colab": {
      "provenance": [],
      "include_colab_link": true
    }
  },
  "nbformat": 4,
  "nbformat_minor": 0
}